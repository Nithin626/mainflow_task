{
  "nbformat": 4,
  "nbformat_minor": 0,
  "metadata": {
    "colab": {
      "provenance": []
    },
    "kernelspec": {
      "name": "python3",
      "display_name": "Python 3"
    },
    "language_info": {
      "name": "python"
    }
  },
  "cells": [
    {
      "cell_type": "markdown",
      "source": [
        "List operations\n",
        "\n"
      ],
      "metadata": {
        "id": "Pb-DrGkKqxpd"
      }
    },
    {
      "cell_type": "code",
      "execution_count": null,
      "metadata": {
        "colab": {
          "base_uri": "https://localhost:8080/"
        },
        "id": "d--d9AJwpF1H",
        "outputId": "2e43bc16-5d61-4d99-ad42-34b3f62f1b08"
      },
      "outputs": [
        {
          "output_type": "execute_result",
          "data": {
            "text/plain": [
              "[1, 2, 3, 4, 5]"
            ]
          },
          "metadata": {},
          "execution_count": 40
        }
      ],
      "source": [
        "# Creating a list\n",
        "my_list = [1, 2, 3, 4, 5]\n",
        "my_list"
      ]
    },
    {
      "cell_type": "code",
      "source": [
        "# Adding an element to the list\n",
        "my_list.append(6)  # Adds 6 to the end of the list\n",
        "print(\"List after adding an element:\", my_list)"
      ],
      "metadata": {
        "colab": {
          "base_uri": "https://localhost:8080/"
        },
        "id": "056hps7HpbUx",
        "outputId": "b5de49da-190e-4ad5-cc03-5ba06a30bd24"
      },
      "execution_count": null,
      "outputs": [
        {
          "output_type": "stream",
          "name": "stdout",
          "text": [
            "List after adding an element: [1, 2, 3, 4, 5, 6]\n"
          ]
        }
      ]
    },
    {
      "cell_type": "code",
      "source": [
        "# Removing an element from the list\n",
        "my_list.remove(2)  # Removes the first occurrence of 2 from the list\n",
        "print(\"List after removing an element:\", my_list)"
      ],
      "metadata": {
        "colab": {
          "base_uri": "https://localhost:8080/"
        },
        "id": "eGeOA7kRpbd_",
        "outputId": "851289c5-69c8-497a-edb1-2ced877aced8"
      },
      "execution_count": null,
      "outputs": [
        {
          "output_type": "stream",
          "name": "stdout",
          "text": [
            "List after removing an element: [1, 3, 4, 5, 6]\n"
          ]
        }
      ]
    },
    {
      "cell_type": "code",
      "source": [
        "# Modifying an element in the list\n",
        "my_list[2] = 10  # Changes the element at index 2 (third element) to 10\n",
        "print(\"List after modifying an element:\", my_list)"
      ],
      "metadata": {
        "colab": {
          "base_uri": "https://localhost:8080/"
        },
        "id": "dPLQlX--pblC",
        "outputId": "1dfc7919-88ee-4bde-949f-d6fe8555a948"
      },
      "execution_count": null,
      "outputs": [
        {
          "output_type": "stream",
          "name": "stdout",
          "text": [
            "List after modifying an element: [1, 3, 10, 5, 6]\n"
          ]
        }
      ]
    },
    {
      "cell_type": "code",
      "source": [
        "# Sorting the list\n",
        "my_list.sort()\n",
        "print(\"List after sorting:\", my_list)"
      ],
      "metadata": {
        "colab": {
          "base_uri": "https://localhost:8080/"
        },
        "id": "Gt9VArQKqDpj",
        "outputId": "c893581a-ee85-433a-9832-058c57f9f527"
      },
      "execution_count": null,
      "outputs": [
        {
          "output_type": "stream",
          "name": "stdout",
          "text": [
            "List after sorting: [1, 3, 5, 6, 10]\n"
          ]
        }
      ]
    },
    {
      "cell_type": "code",
      "source": [
        "# Checking if an element exists in the list\n",
        "print(\"Is 10 in the list?\", 10 in my_list)\n",
        "print(\"Is 2 in the list?\", 2 in my_list)"
      ],
      "metadata": {
        "colab": {
          "base_uri": "https://localhost:8080/"
        },
        "id": "8FXYkrA5qILR",
        "outputId": "5c5bf686-747f-4470-8ef1-c677adf9c3de"
      },
      "execution_count": null,
      "outputs": [
        {
          "output_type": "stream",
          "name": "stdout",
          "text": [
            "Is 10 in the list? True\n",
            "Is 2 in the list? False\n"
          ]
        }
      ]
    },
    {
      "cell_type": "markdown",
      "source": [
        "Dictionary operations"
      ],
      "metadata": {
        "id": "Em_xFrM6q6QS"
      }
    },
    {
      "cell_type": "code",
      "source": [
        "# Creating a dictionary\n",
        "my_dict = {'name': 'karan', 'age': 23, 'city': 'delhi'}\n",
        "my_dict"
      ],
      "metadata": {
        "colab": {
          "base_uri": "https://localhost:8080/"
        },
        "id": "y919K08ZpiyM",
        "outputId": "cc4821d4-4686-447e-8813-23541aadc12a"
      },
      "execution_count": null,
      "outputs": [
        {
          "output_type": "execute_result",
          "data": {
            "text/plain": [
              "{'name': 'karan', 'age': 23, 'city': 'delhi'}"
            ]
          },
          "metadata": {},
          "execution_count": 46
        }
      ]
    },
    {
      "cell_type": "code",
      "source": [
        "# Adding a key-value pair to the dictionary\n",
        "my_dict['job'] = 'Engineer'  # Adds a new key 'job' with the value 'Engineer'\n",
        "print(\"Dictionary after adding a key-value pair:\", my_dict)"
      ],
      "metadata": {
        "colab": {
          "base_uri": "https://localhost:8080/"
        },
        "id": "DT2dtRnJpi1X",
        "outputId": "a8e30fdd-e367-40b1-d218-f978ab917b1f"
      },
      "execution_count": null,
      "outputs": [
        {
          "output_type": "stream",
          "name": "stdout",
          "text": [
            "Dictionary after adding a key-value pair: {'name': 'karan', 'age': 23, 'city': 'delhi', 'job': 'Engineer'}\n"
          ]
        }
      ]
    },
    {
      "cell_type": "code",
      "source": [
        "# Removing a key-value pair from the dictionary\n",
        "del my_dict['age']  # Removes the key 'age' and its value\n",
        "print(\"Dictionary after removing a key-value pair:\", my_dict)\n"
      ],
      "metadata": {
        "colab": {
          "base_uri": "https://localhost:8080/"
        },
        "id": "CT7PLufRpi4I",
        "outputId": "8cb6b2b9-fd69-43f3-ef8b-3d92e2f7dbf7"
      },
      "execution_count": null,
      "outputs": [
        {
          "output_type": "stream",
          "name": "stdout",
          "text": [
            "Dictionary after removing a key-value pair: {'name': 'karan', 'city': 'delhi', 'job': 'Engineer'}\n"
          ]
        }
      ]
    },
    {
      "cell_type": "code",
      "source": [
        "# Modifying a value in the dictionary\n",
        "my_dict['city'] = 'Shivajinagar'  # Changes the value of the key 'city' to 'San Francisco'\n",
        "print(\"Dictionary after modifying a value:\", my_dict)\n"
      ],
      "metadata": {
        "colab": {
          "base_uri": "https://localhost:8080/"
        },
        "id": "0E9DZOj4pi6l",
        "outputId": "18e5e38e-6643-41a0-c305-ac47cc98271a"
      },
      "execution_count": null,
      "outputs": [
        {
          "output_type": "stream",
          "name": "stdout",
          "text": [
            "Dictionary after modifying a value: {'name': 'karan', 'city': 'Shivajinagar', 'job': 'Engineer'}\n"
          ]
        }
      ]
    },
    {
      "cell_type": "code",
      "source": [
        "# Checking if a key exists in the dictionary\n",
        "print(\"Is 'name' a key in the dictionary?\", 'name' in my_dict)\n",
        "print(\"Is 'age' a key in the dictionary?\", 'age' in my_dict)"
      ],
      "metadata": {
        "colab": {
          "base_uri": "https://localhost:8080/"
        },
        "id": "OlcIxKZrqNSG",
        "outputId": "a781a0a9-3832-4933-ebff-6b7f71b1a0a8"
      },
      "execution_count": null,
      "outputs": [
        {
          "output_type": "stream",
          "name": "stdout",
          "text": [
            "Is 'name' a key in the dictionary? True\n",
            "Is 'age' a key in the dictionary? False\n"
          ]
        }
      ]
    },
    {
      "cell_type": "markdown",
      "source": [
        "Set operations\n"
      ],
      "metadata": {
        "id": "TXZQNSYaq-Bl"
      }
    },
    {
      "cell_type": "code",
      "source": [
        "# Creating a set\n",
        "my_set = {1, 2, 3, 4, 5}\n",
        "my_set"
      ],
      "metadata": {
        "colab": {
          "base_uri": "https://localhost:8080/"
        },
        "id": "tPrm6JB2pi98",
        "outputId": "7c8cb8d7-244c-42e0-cbe2-766cca60759e"
      },
      "execution_count": null,
      "outputs": [
        {
          "output_type": "execute_result",
          "data": {
            "text/plain": [
              "{1, 2, 3, 4, 5}"
            ]
          },
          "metadata": {},
          "execution_count": 51
        }
      ]
    },
    {
      "cell_type": "code",
      "source": [
        "# Adding an element to the set\n",
        "my_set.add(6)  # Adds 6 to the set\n",
        "print(\"Set after adding an element:\", my_set)"
      ],
      "metadata": {
        "colab": {
          "base_uri": "https://localhost:8080/"
        },
        "id": "EZPxGg1XpszZ",
        "outputId": "522a4a06-fbce-4932-8987-0142a2b82417"
      },
      "execution_count": null,
      "outputs": [
        {
          "output_type": "stream",
          "name": "stdout",
          "text": [
            "Set after adding an element: {1, 2, 3, 4, 5, 6}\n"
          ]
        }
      ]
    },
    {
      "cell_type": "code",
      "source": [
        "# Removing an element from the set\n",
        "my_set.remove(3)  # Removes 3 from the set\n",
        "print(\"Set after removing an element:\", my_set)"
      ],
      "metadata": {
        "colab": {
          "base_uri": "https://localhost:8080/"
        },
        "id": "gmsYbsaTpvU1",
        "outputId": "b19203c6-e1cf-4345-fcc2-c863bbb36d6a"
      },
      "execution_count": null,
      "outputs": [
        {
          "output_type": "stream",
          "name": "stdout",
          "text": [
            "Set after removing an element: {1, 2, 4, 5, 6}\n"
          ]
        }
      ]
    },
    {
      "cell_type": "code",
      "source": [
        "# Trying to add a duplicate element to the set (will not change the set)\n",
        "my_set.add(4)  # 4 is already in the set, so no change will occur\n",
        "print(\"Set after trying to add a duplicate element:\", my_set)"
      ],
      "metadata": {
        "colab": {
          "base_uri": "https://localhost:8080/"
        },
        "id": "PuAzVjXmps2y",
        "outputId": "78dde59a-ff4b-4fc4-8ede-b504ced7af4f"
      },
      "execution_count": null,
      "outputs": [
        {
          "output_type": "stream",
          "name": "stdout",
          "text": [
            "Set after trying to add a duplicate element: {1, 2, 4, 5, 6}\n"
          ]
        }
      ]
    },
    {
      "cell_type": "code",
      "source": [
        "# Checking if an element exists in the set\n",
        "print(\"Is 4 in the set?\", 4 in my_set)\n",
        "print(\"Is 3 in the set?\", 3 in my_set)\n"
      ],
      "metadata": {
        "colab": {
          "base_uri": "https://localhost:8080/"
        },
        "id": "DWPESpTvpboD",
        "outputId": "bcb1a39f-5c22-4c10-8d6e-aed62a699918"
      },
      "execution_count": null,
      "outputs": [
        {
          "output_type": "stream",
          "name": "stdout",
          "text": [
            "Is 4 in the set? True\n",
            "Is 3 in the set? False\n"
          ]
        }
      ]
    }
  ]
}